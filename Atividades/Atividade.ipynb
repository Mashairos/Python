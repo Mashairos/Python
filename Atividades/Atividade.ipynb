{
  "cells": [
    {
      "cell_type": "markdown",
      "metadata": {
        "id": "sfCC4-VQAKL5"
      },
      "source": [
        "Instituto Federal Baiano Campus Guanambi.\n",
        "\n",
        "Aluno: Iuri Pereira Viana — 2AII."
      ]
    },
    {
      "cell_type": "markdown",
      "metadata": {
        "id": "gbHLI7Ad-oYY"
      },
      "source": [
        "**1 —** Peso Ideal:\n"
      ]
    },
    {
      "cell_type": "code",
      "execution_count": null,
      "metadata": {
        "id": "7ouK2wEC63TX"
      },
      "outputs": [],
      "source": [
        "h = float(input(\"Informe a sua altura em metros: \"))\n",
        "sexo = input(\"Informe o seu sexo (M/F): \")\n",
        "\n",
        "pesoI = 0\n",
        "if sexo == \"M\" or sexo == \"m\":\n",
        "  pesoI = (72.7 * h) - 58.0\n",
        "elif sexo == \"F\" or sexo == \"f\":\n",
        "  pesoI = (62.1 * h) - 44.7\n",
        "\n",
        "print(\"Seu peso ideal: \", pesoI, \"Kg\")\n",
        "\n",
        "peso = float(input(\"Entre com o seu peso atual: \"))\n",
        "\n",
        "if peso > pesoI:\n",
        "  print(\"Você encontra-se acima do peso ideal\")\n",
        "elif peso == pesoI:\n",
        "  print(\"Você encontra-se no peso ideal\")\n",
        "else:\n",
        "  print(\"Você encontra-se abaixo do peso ideal\")"
      ]
    },
    {
      "cell_type": "markdown",
      "metadata": {
        "id": "vH5dE7JwBSUO"
      },
      "source": [
        "⠀⠀⠀⠀⠀⠀⠀⠀"
      ]
    },
    {
      "cell_type": "markdown",
      "metadata": {
        "id": "caKeeaQ5BMaP"
      },
      "source": [
        "**2 —** Tempo aproximado de Download:"
      ]
    },
    {
      "cell_type": "code",
      "execution_count": null,
      "metadata": {
        "id": "BEHAu-SVBg6V"
      },
      "outputs": [],
      "source": [
        "#1 MB = 8 Mb\n",
        "\n",
        "Tamanho = float(input(\"Tamanho do arquivo (MB): \" ))\n",
        "Velocidade = float(input(\"Velocidade de Internet (Mbps)\"))\n",
        "\n",
        "Tempo = ((Tamanho*8)/Velocidade)/60\n",
        "\n",
        "print(\"Tempo estimado de download em minutos: {:.2f}\".format(Tempo))"
      ]
    },
    {
      "cell_type": "markdown",
      "metadata": {
        "id": "tF4fYseWEIOp"
      },
      "source": [
        "⠀⠀⠀⠀⠀⠀⠀"
      ]
    },
    {
      "cell_type": "markdown",
      "metadata": {
        "id": "GuVYM8sKEKhm"
      },
      "source": [
        "**3 —** Ordem decrescente:"
      ]
    },
    {
      "cell_type": "code",
      "execution_count": null,
      "metadata": {
        "id": "9vv5NsMNETpY"
      },
      "outputs": [],
      "source": [
        "n = []\n",
        "\n",
        "for i in range(3):\n",
        "  n.append(eval(input(\"Digite o número \" + str(i+1) + \": \")))\n",
        "\n",
        "n.sort()\n",
        "n.reverse()\n",
        "\n",
        "print(\"Números em ordem decrescente:\", n)"
      ]
    },
    {
      "cell_type": "markdown",
      "metadata": {
        "id": "06wdERFZEfYQ"
      },
      "source": [
        "⠀⠀⠀⠀⠀⠀⠀"
      ]
    },
    {
      "cell_type": "markdown",
      "metadata": {
        "id": "zZDyWl-qEf1r"
      },
      "source": [
        "**4 —** Turnos de estudo:"
      ]
    },
    {
      "cell_type": "code",
      "execution_count": null,
      "metadata": {
        "id": "MisujpNXEn03"
      },
      "outputs": [],
      "source": [
        "T = input(\"Digite o seu turno (M para Matutino; V para Vespertino ou N para Noturno): \")\n",
        "\n",
        "if T == \"M\" or T == \"m\":\n",
        "  print(\"Bom Dia!\")\n",
        "elif T == \"V\" or T == \"v\":\n",
        "  print(\"Boa Tarde!\")\n",
        "elif T == \"N\" or T ==\"n\":\n",
        "  print(\"Boa Noite!\")\n",
        "else:\n",
        "  print(\"Valor Inválido!\")"
      ]
    },
    {
      "cell_type": "markdown",
      "metadata": {
        "id": "sjFFdFFrFFTu"
      },
      "source": [
        "⠀⠀⠀⠀⠀⠀⠀"
      ]
    },
    {
      "cell_type": "markdown",
      "metadata": {
        "id": "vHAkZICzFF63"
      },
      "source": [
        "**5 —** Par ou Ímpar:"
      ]
    },
    {
      "cell_type": "code",
      "execution_count": null,
      "metadata": {
        "id": "PhMipQQqFQdp"
      },
      "outputs": [],
      "source": [
        "n = int(input(\"Entre com um número inteiro: \"))\n",
        "\n",
        "if(n % 2 == 0):\n",
        "  print(\"O número digitado consiste em um par\")\n",
        "else:\n",
        "  print(\"O número digitado consiste em um ímpar\")"
      ]
    },
    {
      "cell_type": "markdown",
      "metadata": {
        "id": "OKLAx-XZFh3-"
      },
      "source": [
        "⠀⠀⠀⠀⠀⠀⠀"
      ]
    },
    {
      "cell_type": "markdown",
      "metadata": {
        "id": "-53YpCSSFiZM"
      },
      "source": [
        "**6 —** Maior número:"
      ]
    },
    {
      "cell_type": "code",
      "execution_count": null,
      "metadata": {
        "id": "MDt2x2nBFm6d"
      },
      "outputs": [],
      "source": [
        "n = []\n",
        "\n",
        "for i in range(5):\n",
        "  n.append(eval(input(\"Digite um número: \")))\n",
        "\n",
        "n.sort()\n",
        "print(\"lista dos números digitados:\", n)\n",
        "print(\"Maior número entre eles:\", n[-1])"
      ]
    },
    {
      "cell_type": "markdown",
      "metadata": {
        "id": "nTjEeqJPGA-X"
      },
      "source": [
        "⠀⠀⠀⠀⠀⠀⠀"
      ]
    },
    {
      "cell_type": "markdown",
      "metadata": {
        "id": "iIiDHbqXGBOl"
      },
      "source": [
        "**7 —** Soma e Média:"
      ]
    },
    {
      "cell_type": "code",
      "execution_count": null,
      "metadata": {
        "id": "7WgXTv79GGP1"
      },
      "outputs": [],
      "source": [
        "n = []\n",
        "soma = 0\n",
        "\n",
        "for i in range(5):\n",
        "  n.append(eval(input(\"Digite o número \" + str(i+1) + \": \")))\n",
        "  soma += n[i]\n",
        "\n",
        "media = soma/5\n",
        "\n",
        "print(\"\\nSoma dos números:\", soma)\n",
        "print(\"Média dos números:\", media)"
      ]
    },
    {
      "cell_type": "markdown",
      "metadata": {
        "id": "B8-vQsmzGqRz"
      },
      "source": [
        "⠀⠀⠀⠀⠀⠀⠀"
      ]
    },
    {
      "cell_type": "markdown",
      "metadata": {
        "id": "w983WerLGp49"
      },
      "source": [
        "**8 —** Ímpares entre 1 e 50:"
      ]
    },
    {
      "cell_type": "code",
      "execution_count": null,
      "metadata": {
        "id": "bKJJPi1dGyxD"
      },
      "outputs": [],
      "source": [
        "#A palavra \"entre\" na matémática indica um intervalo aberto.\n",
        "#Ou seja: seus extremos (1 e 50) não estão incluídos.\n",
        "\n",
        "x = []\n",
        "\n",
        "for i in range(3, 50, 2):\n",
        "    x.append(i)\n",
        "\n",
        "print(\"Números ímpares entre 1 e 50\")\n",
        "print(\":\", x)"
      ]
    },
    {
      "cell_type": "markdown",
      "metadata": {
        "id": "3PazTpKOIRPy"
      },
      "source": [
        "⠀⠀⠀⠀⠀⠀⠀"
      ]
    },
    {
      "cell_type": "markdown",
      "metadata": {
        "id": "jFZ_Q7FhIQyJ"
      },
      "source": [
        "**9 —** Ordem inversa:"
      ]
    },
    {
      "cell_type": "code",
      "execution_count": null,
      "metadata": {
        "id": "PCFTD9TqIQoi"
      },
      "outputs": [],
      "source": [
        "n = []\n",
        "\n",
        "for i in range(10):\n",
        "  n.append(eval(input(\"Digite o número \" + str(i+1) + \": \")))\n",
        "\n",
        "n.reverse()\n",
        "\n",
        "print(\"Vetor de 10 números na ordem inversa\", n)"
      ]
    }
  ],
  "metadata": {
    "colab": {
      "name": "Python.ipynb",
      "provenance": []
    },
    "interpreter": {
      "hash": "c1faf3f173094156314bf08d100c24bc3919cc80ed370c4cb007d4906b0d3809"
    },
    "kernelspec": {
      "display_name": "Python 3.8.10 32-bit",
      "name": "python3"
    },
    "language_info": {
      "codemirror_mode": {
        "name": "ipython",
        "version": 3
      },
      "file_extension": ".py",
      "mimetype": "text/x-python",
      "name": "python",
      "nbconvert_exporter": "python",
      "pygments_lexer": "ipython3",
      "version": "3.8.10"
    }
  },
  "nbformat": 4,
  "nbformat_minor": 0
}
